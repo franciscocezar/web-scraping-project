{
 "cells": [
  {
   "cell_type": "code",
   "execution_count": 1,
   "metadata": {},
   "outputs": [
    {
     "data": {
      "text/html": [
       "<div>\n",
       "<style scoped>\n",
       "    .dataframe tbody tr th:only-of-type {\n",
       "        vertical-align: middle;\n",
       "    }\n",
       "\n",
       "    .dataframe tbody tr th {\n",
       "        vertical-align: top;\n",
       "    }\n",
       "\n",
       "    .dataframe thead th {\n",
       "        text-align: right;\n",
       "    }\n",
       "</style>\n",
       "<table border=\"1\" class=\"dataframe\">\n",
       "  <thead>\n",
       "    <tr style=\"text-align: right;\">\n",
       "      <th></th>\n",
       "      <th>Nome</th>\n",
       "      <th>Termos banidos</th>\n",
       "      <th>Preço mínimo</th>\n",
       "      <th>Preço máximo</th>\n",
       "    </tr>\n",
       "  </thead>\n",
       "  <tbody>\n",
       "    <tr>\n",
       "      <th>0</th>\n",
       "      <td>iphone 12 64gb</td>\n",
       "      <td>mini watch</td>\n",
       "      <td>3000</td>\n",
       "      <td>3500</td>\n",
       "    </tr>\n",
       "    <tr>\n",
       "      <th>1</th>\n",
       "      <td>rtx 3060</td>\n",
       "      <td>zota galax</td>\n",
       "      <td>4000</td>\n",
       "      <td>4500</td>\n",
       "    </tr>\n",
       "  </tbody>\n",
       "</table>\n",
       "</div>"
      ],
      "text/plain": [
       "             Nome Termos banidos  Preço mínimo  Preço máximo\n",
       "0  iphone 12 64gb     mini watch          3000          3500\n",
       "1        rtx 3060     zota galax          4000          4500"
      ]
     },
     "metadata": {},
     "output_type": "display_data"
    }
   ],
   "source": [
    "import pandas as pd\n",
    "from selenium import webdriver\n",
    "from selenium.webdriver.chrome.service import Service\n",
    "from selenium.webdriver.common.by import By\n",
    "from selenium.webdriver.common.keys import Keys\n",
    "from webdriver_manager.chrome import ChromeDriverManager\n",
    "from pathlib import Path\n",
    "\n",
    "# chrome_options = webdriver.ChromeOptions()\n",
    "# chrome_options.add_argument('headless')\n",
    "\n",
    "try:\n",
    "    # driver = webdriver.Chrome(options=chrome_options)\n",
    "    driver = webdriver.Chrome()\n",
    "except:\n",
    "    service = Service(ChromeDriverManager().install())\n",
    "    # driver = webdriver.Chrome(service=service, options=chrome_options)\n",
    "    driver = webdriver.Chrome(service=service)\n",
    "\n",
    "df = pd.read_excel('buscas.xlsx')\n",
    "display(df)"
   ]
  },
  {
   "cell_type": "code",
   "execution_count": 2,
   "metadata": {},
   "outputs": [],
   "source": [
    "driver.get('https://www.google.com/')\n",
    "driver.find_element(By.XPATH, '/html/body/div[1]/div[3]/form/div[1]/div[1]/div[1]/div/div[2]/input').send_keys(f'{df[\"Nome\"][0]}')\n",
    "driver.find_element(By.XPATH, '/html/body/div[1]/div[3]/form/div[1]/div[1]/div[1]/div/div[2]/input').send_keys(Keys.ENTER)\n"
   ]
  },
  {
   "cell_type": "code",
   "execution_count": 3,
   "metadata": {},
   "outputs": [],
   "source": [
    "elements_list = driver.find_elements(By.CLASS_NAME, 'hdtb-mitem')\n",
    "for element in elements_list:\n",
    "        if 'shopping' in element.text.lower():\n",
    "            element.click()\n",
    "            break"
   ]
  },
  {
   "cell_type": "code",
   "execution_count": 60,
   "metadata": {},
   "outputs": [
    {
     "data": {
      "text/plain": [
       "['iphone', '12', '64gb']"
      ]
     },
     "execution_count": 60,
     "metadata": {},
     "output_type": "execute_result"
    }
   ],
   "source": [
    "df['Nome'][0].split(' ')\n"
   ]
  },
  {
   "cell_type": "code",
   "execution_count": 135,
   "metadata": {},
   "outputs": [
    {
     "name": "stdout",
     "output_type": "stream",
     "text": [
      "0 6\n",
      "1 6\n",
      "2 6\n",
      "4 6\n",
      "5 7\n",
      "7 6\n",
      "8 6\n",
      "9 6\n",
      "10 7\n",
      "11 6\n",
      "12 6\n",
      "13 6\n",
      "14 6\n",
      "15 6\n",
      "16 6\n",
      "18 6\n",
      "19 7\n"
     ]
    }
   ],
   "source": [
    "iphone_info = driver.find_elements(By.CLASS_NAME, 'sh-dgr__grid-result')\n",
    "new_dataframe = [[\n",
    "                    i.find_element(By.CLASS_NAME, 'tAxDx').text,\n",
    "                    i.find_element(By.CLASS_NAME, 'a8Pemb').text,\n",
    "                    i.find_element(By.CSS_SELECTOR, 'a.shntl').get_attribute('href')] \n",
    "                    for i in iphone_info]\n",
    "new_dataframe.pop(0)\n",
    "\n",
    "# Treatment of names\n",
    "product_name = ['iphone', '12', '64', 'gb']\n",
    "termos_banidos = ['mini', 'watch', '11']\n",
    "for word in termos_banidos:\n",
    "    for i, name in enumerate(new_dataframe):\n",
    "        if word in name[0].lower():\n",
    "            new_dataframe.pop(i)\n",
    "        for n in product_name:\n",
    "            if n not in name[0].lower():\n",
    "                new_dataframe.pop(i)\n",
    "\n",
    "# Treatment of prices\n",
    "min_price = 3000.00\n",
    "max_price = 3500.00\n",
    "\n",
    "for k, v in enumerate(new_dataframe):\n",
    "    new_dataframe[k][1] = float(v[1].replace(\"R$ \", \"\").replace(\".\", \"\").replace(\",\", \".\"))\n",
    "\n",
    "for i, v in enumerate(new_dataframe):\n",
    "    # if v[1] < min_price:\n",
    "    #     print(i, v[1])\n",
    "    # print()\n",
    "    if v[1] > max_price:\n",
    "        new_dataframe.pop(i)\n",
    "        print(i, len(str(v[1])))\n",
    "  \n",
    "\n"
   ]
  }
 ],
 "metadata": {
  "kernelspec": {
   "display_name": ".venv",
   "language": "python",
   "name": "python3"
  },
  "language_info": {
   "codemirror_mode": {
    "name": "ipython",
    "version": 3
   },
   "file_extension": ".py",
   "mimetype": "text/x-python",
   "name": "python",
   "nbconvert_exporter": "python",
   "pygments_lexer": "ipython3",
   "version": "3.10.4"
  },
  "orig_nbformat": 4,
  "vscode": {
   "interpreter": {
    "hash": "17e14255f64f3971992fb1aaac5a5919d0c48a958456c69edddb50fcf3430700"
   }
  }
 },
 "nbformat": 4,
 "nbformat_minor": 2
}
