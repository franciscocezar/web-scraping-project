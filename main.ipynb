{
 "cells": [
  {
   "cell_type": "code",
   "execution_count": null,
   "metadata": {},
   "outputs": [],
   "source": [
    "import pandas as pd\n",
    "from selenium import webdriver\n",
    "from selenium.webdriver.chrome.service import Service\n",
    "from selenium.webdriver.common.by import By\n",
    "from selenium.webdriver.common.keys import Keys\n",
    "from webdriver_manager.chrome import ChromeDriverManager\n",
    "from pathlib import Path\n",
    "\n",
    "# chrome_options = webdriver.ChromeOptions()\n",
    "# chrome_options.add_argument('headless')\n",
    "\n",
    "try:\n",
    "    # driver = webdriver.Chrome(options=chrome_options)\n",
    "    driver = webdriver.Chrome()\n",
    "except:\n",
    "    service = Service(ChromeDriverManager().install())\n",
    "    # driver = webdriver.Chrome(service=service, options=chrome_options)\n",
    "    driver = webdriver.Chrome(service=service)\n",
    "\n",
    "df = pd.read_excel('buscas.xlsx')\n",
    "display(df)"
   ]
  },
  {
   "cell_type": "code",
   "execution_count": null,
   "metadata": {},
   "outputs": [],
   "source": [
    "def google_search(driver, product_name, forbidden_words, min_price, max_price):\n",
    "\n",
    "    driver.get('https://www.google.com/')\n",
    "    driver.find_element(By.XPATH, '/html/body/div[1]/div[3]/form/div[1]/div[1]/div[1]/div/div[2]/input').send_keys(f'{df[\"Nome\"][0]}')\n",
    "    driver.find_element(By.XPATH, '/html/body/div[1]/div[3]/form/div[1]/div[1]/div[1]/div/div[2]/input').send_keys(Keys.ENTER)\n",
    "\n",
    "\n",
    "    elements_list = driver.find_elements(By.CLASS_NAME, 'hdtb-mitem')\n",
    "    for element in elements_list:\n",
    "            if 'shopping' in element.text.lower():\n",
    "                element.click()\n",
    "                break\n",
    "\n",
    "\n",
    "    result_list = driver.find_elements(By.CLASS_NAME, 'sh-dgr__grid-result')\n",
    "\n",
    "    # Dealing with input variables\n",
    "    product_name = product_name.lower()\n",
    "    product_name_list = product_name.split(\" \")\n",
    "\n",
    "    forbidden_words = forbidden_words.lower()\n",
    "    forbidden_words_list = forbidden_words.split(\" \")\n",
    "\n",
    "    max_price = float(max_price)\n",
    "    min_price = float(min_price)\n",
    "\n",
    "    found_products = [] # the final result\n",
    "    for result in result_list:\n",
    "        name = result.find_element(By.CLASS_NAME, 'tAxDx').text\n",
    "        name = name.lower()\n",
    "\n",
    "        # Verifying the product name\n",
    "        has_forbidden_words = False\n",
    "        for word in forbidden_words_list:\n",
    "            if word in name:\n",
    "                has_forbidden_words = True\n",
    "        \n",
    "        # Ensure that the product name is the desired one\n",
    "        has_all_product_names = True\n",
    "        for word in product_name_list:\n",
    "            if word not in name:\n",
    "                has_all_product_names = False\n",
    "        \n",
    "        if not has_forbidden_words and has_all_product_names: # verificando o nome\n",
    "            try:\n",
    "                # Formating the price -> (from str to float)\n",
    "                price = float(result.find_element(By.CLASS_NAME, 'a8Pemb').text.replace(\"R$ \", \"\").replace(\".\", \"\").replace(\",\", \".\"))\n",
    "        \n",
    "                # Checking if price is within the defined limit\n",
    "                if min_price <= price <= max_price:\n",
    "                    link = result.find_element(By.CSS_SELECTOR, 'a.shntl').get_attribute('href')\n",
    "                    found_products.append((name, price, link))\n",
    "            except:\n",
    "                continue\n",
    "\n",
    "\n",
    "    return found_products\n",
    "\n"
   ]
  },
  {
   "cell_type": "code",
   "execution_count": null,
   "metadata": {},
   "outputs": [],
   "source": [
    "product_name = 'iphone 12 64gb'\n",
    "forbidden_words = 'mini watch 11'\n",
    "min_price = 3000\n",
    "max_price = 3500\n",
    "\n",
    "final_results = google_search(driver, product_name, forbidden_words, min_price, max_price)\n",
    "\n",
    "for i in final_results:\n",
    "    print(i)"
   ]
  }
 ],
 "metadata": {
  "kernelspec": {
   "display_name": ".venv",
   "language": "python",
   "name": "python3"
  },
  "language_info": {
   "codemirror_mode": {
    "name": "ipython",
    "version": 3
   },
   "file_extension": ".py",
   "mimetype": "text/x-python",
   "name": "python",
   "nbconvert_exporter": "python",
   "pygments_lexer": "ipython3",
   "version": "3.10.4"
  },
  "orig_nbformat": 4,
  "vscode": {
   "interpreter": {
    "hash": "17e14255f64f3971992fb1aaac5a5919d0c48a958456c69edddb50fcf3430700"
   }
  }
 },
 "nbformat": 4,
 "nbformat_minor": 2
}
